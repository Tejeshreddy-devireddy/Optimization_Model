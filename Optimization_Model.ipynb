{
  "nbformat": 4,
  "nbformat_minor": 0,
  "metadata": {
    "colab": {
      "provenance": []
    },
    "kernelspec": {
      "name": "python3",
      "display_name": "Python 3"
    },
    "language_info": {
      "name": "python"
    }
  },
  "cells": [
    {
      "cell_type": "code",
      "execution_count": 1,
      "metadata": {
        "colab": {
          "base_uri": "https://localhost:8080/"
        },
        "id": "d-JElj0Yt2ND",
        "outputId": "3d4a471f-7d0c-4059-d57d-efeb1d630cfc"
      },
      "outputs": [
        {
          "output_type": "stream",
          "name": "stdout",
          "text": [
            "Collecting pulp\n",
            "  Downloading pulp-3.2.2-py3-none-any.whl.metadata (6.9 kB)\n",
            "Downloading pulp-3.2.2-py3-none-any.whl (16.4 MB)\n",
            "\u001b[2K   \u001b[90m━━━━━━━━━━━━━━━━━━━━━━━━━━━━━━━━━━━━━━━━\u001b[0m \u001b[32m16.4/16.4 MB\u001b[0m \u001b[31m60.3 MB/s\u001b[0m eta \u001b[36m0:00:00\u001b[0m\n",
            "\u001b[?25hInstalling collected packages: pulp\n",
            "Successfully installed pulp-3.2.2\n"
          ]
        }
      ],
      "source": [
        "!pip install pulp"
      ]
    },
    {
      "cell_type": "code",
      "source": [
        "import pulp\n",
        "import json\n",
        "import os\n",
        "\n",
        "# Create output folder\n",
        "os.makedirs(\"outputs/task4\", exist_ok=True)\n",
        "\n",
        "# Define the problem\n",
        "prob = pulp.LpProblem(\"ProductionPlanning\", pulp.LpMaximize)\n",
        "\n",
        "# Decision variables\n",
        "A = pulp.LpVariable(\"A_units\", lowBound=0, cat=pulp.LpInteger)\n",
        "B = pulp.LpVariable(\"B_units\", lowBound=0, cat=pulp.LpInteger)\n",
        "\n",
        "# Profits per unit\n",
        "profit = {\"A\": 30, \"B\": 50}\n",
        "\n",
        "# Resource constraints\n",
        "# Machine hours limit: 100\n",
        "# Labor hours limit: 100\n",
        "# A uses 1 machine hour & 2 labor hours\n",
        "# B uses 2 machine hours & 1 labor hour\n",
        "\n",
        "# Objective: Maximize profit\n",
        "prob += profit[\"A\"] * A + profit[\"B\"] * B, \"TotalProfit\"\n",
        "\n",
        "# Constraints\n",
        "prob += 1 * A + 2 * B <= 100, \"MachineHours\"\n",
        "prob += 2 * A + 1 * B <= 100, \"LaborHours\"\n",
        "\n",
        "# Solve the problem\n",
        "status = prob.solve()\n",
        "\n",
        "# Save solution\n",
        "solution = {\n",
        "    \"status\": pulp.LpStatus[status],\n",
        "    \"A_units\": int(A.value()),\n",
        "    \"B_units\": int(B.value()),\n",
        "    \"objective\": float(pulp.value(prob.objective))\n",
        "}\n",
        "\n",
        "with open(\"outputs/task4/solution.json\", \"w\") as f:\n",
        "    json.dump(solution, f, indent=2)\n",
        "\n",
        "# Display results\n",
        "print(\"✅ Optimization Complete\")\n",
        "print(json.dumps(solution, indent=2))\n"
      ],
      "metadata": {
        "colab": {
          "base_uri": "https://localhost:8080/"
        },
        "id": "u_4gM6LmuGB6",
        "outputId": "3180abe9-5537-4286-cb2c-cf0d85208683"
      },
      "execution_count": 2,
      "outputs": [
        {
          "output_type": "stream",
          "name": "stdout",
          "text": [
            "✅ Optimization Complete\n",
            "{\n",
            "  \"status\": \"Optimal\",\n",
            "  \"A_units\": 32,\n",
            "  \"B_units\": 34,\n",
            "  \"objective\": 2660.0\n",
            "}\n"
          ]
        }
      ]
    },
    {
      "cell_type": "code",
      "source": [
        "from google.colab import files\n",
        "files.download(\"outputs/task4/solution.json\")"
      ],
      "metadata": {
        "colab": {
          "base_uri": "https://localhost:8080/",
          "height": 17
        },
        "id": "2TyQxQLTuP--",
        "outputId": "03a5b767-5499-4f10-a570-849d745d9f1a"
      },
      "execution_count": 3,
      "outputs": [
        {
          "output_type": "display_data",
          "data": {
            "text/plain": [
              "<IPython.core.display.Javascript object>"
            ],
            "application/javascript": [
              "\n",
              "    async function download(id, filename, size) {\n",
              "      if (!google.colab.kernel.accessAllowed) {\n",
              "        return;\n",
              "      }\n",
              "      const div = document.createElement('div');\n",
              "      const label = document.createElement('label');\n",
              "      label.textContent = `Downloading \"${filename}\": `;\n",
              "      div.appendChild(label);\n",
              "      const progress = document.createElement('progress');\n",
              "      progress.max = size;\n",
              "      div.appendChild(progress);\n",
              "      document.body.appendChild(div);\n",
              "\n",
              "      const buffers = [];\n",
              "      let downloaded = 0;\n",
              "\n",
              "      const channel = await google.colab.kernel.comms.open(id);\n",
              "      // Send a message to notify the kernel that we're ready.\n",
              "      channel.send({})\n",
              "\n",
              "      for await (const message of channel.messages) {\n",
              "        // Send a message to notify the kernel that we're ready.\n",
              "        channel.send({})\n",
              "        if (message.buffers) {\n",
              "          for (const buffer of message.buffers) {\n",
              "            buffers.push(buffer);\n",
              "            downloaded += buffer.byteLength;\n",
              "            progress.value = downloaded;\n",
              "          }\n",
              "        }\n",
              "      }\n",
              "      const blob = new Blob(buffers, {type: 'application/binary'});\n",
              "      const a = document.createElement('a');\n",
              "      a.href = window.URL.createObjectURL(blob);\n",
              "      a.download = filename;\n",
              "      div.appendChild(a);\n",
              "      a.click();\n",
              "      div.remove();\n",
              "    }\n",
              "  "
            ]
          },
          "metadata": {}
        },
        {
          "output_type": "display_data",
          "data": {
            "text/plain": [
              "<IPython.core.display.Javascript object>"
            ],
            "application/javascript": [
              "download(\"download_aac81de2-ea3d-4328-843e-f951bb709de2\", \"solution.json\", 82)"
            ]
          },
          "metadata": {}
        }
      ]
    }
  ]
}